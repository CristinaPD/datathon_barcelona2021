{
 "cells": [
  {
   "cell_type": "code",
   "execution_count": 2,
   "metadata": {
    "scrolled": true
   },
   "outputs": [],
   "source": [
    "from pywebio.input import *\n",
    "from pywebio.output import *\n",
    "\n",
    "import pandas as pd\n",
    "import numpy as np"
   ]
  },
  {
   "cell_type": "code",
   "execution_count": 3,
   "metadata": {},
   "outputs": [],
   "source": [
    "df_cleaned = pd.read_csv('cleaned_v2.csv')\n",
    "df = pd.read_csv('all_data.csv')"
   ]
  },
  {
   "cell_type": "code",
   "execution_count": 4,
   "metadata": {},
   "outputs": [],
   "source": [
    "types=np.unique(df_cleaned['type'])"
   ]
  },
  {
   "cell_type": "code",
   "execution_count": 5,
   "metadata": {},
   "outputs": [
    {
     "data": {
      "text/html": [
       "<div>\n",
       "<style scoped>\n",
       "    .dataframe tbody tr th:only-of-type {\n",
       "        vertical-align: middle;\n",
       "    }\n",
       "\n",
       "    .dataframe tbody tr th {\n",
       "        vertical-align: top;\n",
       "    }\n",
       "\n",
       "    .dataframe thead th {\n",
       "        text-align: right;\n",
       "    }\n",
       "</style>\n",
       "<table border=\"1\" class=\"dataframe\">\n",
       "  <thead>\n",
       "    <tr style=\"text-align: right;\">\n",
       "      <th></th>\n",
       "      <th>Unnamed: 0</th>\n",
       "      <th>price</th>\n",
       "      <th>rating</th>\n",
       "      <th>type</th>\n",
       "      <th>title</th>\n",
       "      <th>dine_in</th>\n",
       "      <th>takeout</th>\n",
       "      <th>delivery</th>\n",
       "      <th>price_num</th>\n",
       "    </tr>\n",
       "  </thead>\n",
       "  <tbody>\n",
       "    <tr>\n",
       "      <th>0</th>\n",
       "      <td>2</td>\n",
       "      <td>$</td>\n",
       "      <td>4.2</td>\n",
       "      <td>turkish</td>\n",
       "      <td>Divan Turkish Restaurant</td>\n",
       "      <td>1.0</td>\n",
       "      <td>1.0</td>\n",
       "      <td>1.0</td>\n",
       "      <td>1</td>\n",
       "    </tr>\n",
       "    <tr>\n",
       "      <th>1</th>\n",
       "      <td>7</td>\n",
       "      <td>$$</td>\n",
       "      <td>4.0</td>\n",
       "      <td>italian</td>\n",
       "      <td>Restaurante La Tagliatella | Diagonal Mar, Bar...</td>\n",
       "      <td>1.0</td>\n",
       "      <td>1.0</td>\n",
       "      <td>1.0</td>\n",
       "      <td>2</td>\n",
       "    </tr>\n",
       "    <tr>\n",
       "      <th>2</th>\n",
       "      <td>11</td>\n",
       "      <td>$</td>\n",
       "      <td>4.6</td>\n",
       "      <td>vegan_vegetarian</td>\n",
       "      <td>La Trocadero</td>\n",
       "      <td>1.0</td>\n",
       "      <td>1.0</td>\n",
       "      <td>1.0</td>\n",
       "      <td>1</td>\n",
       "    </tr>\n",
       "    <tr>\n",
       "      <th>3</th>\n",
       "      <td>12</td>\n",
       "      <td>$$$</td>\n",
       "      <td>4.4</td>\n",
       "      <td>spanish</td>\n",
       "      <td>El Nacional</td>\n",
       "      <td>1.0</td>\n",
       "      <td>1.0</td>\n",
       "      <td>1.0</td>\n",
       "      <td>3</td>\n",
       "    </tr>\n",
       "    <tr>\n",
       "      <th>4</th>\n",
       "      <td>15</td>\n",
       "      <td>$</td>\n",
       "      <td>4.3</td>\n",
       "      <td>asian</td>\n",
       "      <td>XiAn Restaurante</td>\n",
       "      <td>1.0</td>\n",
       "      <td>1.0</td>\n",
       "      <td>1.0</td>\n",
       "      <td>1</td>\n",
       "    </tr>\n",
       "  </tbody>\n",
       "</table>\n",
       "</div>"
      ],
      "text/plain": [
       "   Unnamed: 0 price  rating              type  \\\n",
       "0           2     $     4.2           turkish   \n",
       "1           7    $$     4.0           italian   \n",
       "2          11     $     4.6  vegan_vegetarian   \n",
       "3          12   $$$     4.4           spanish   \n",
       "4          15     $     4.3             asian   \n",
       "\n",
       "                                               title  dine_in  takeout  \\\n",
       "0                           Divan Turkish Restaurant      1.0      1.0   \n",
       "1  Restaurante La Tagliatella | Diagonal Mar, Bar...      1.0      1.0   \n",
       "2                                       La Trocadero      1.0      1.0   \n",
       "3                                        El Nacional      1.0      1.0   \n",
       "4                                   XiAn Restaurante      1.0      1.0   \n",
       "\n",
       "   delivery  price_num  \n",
       "0       1.0          1  \n",
       "1       1.0          2  \n",
       "2       1.0          1  \n",
       "3       1.0          3  \n",
       "4       1.0          1  "
      ]
     },
     "execution_count": 5,
     "metadata": {},
     "output_type": "execute_result"
    }
   ],
   "source": [
    "df_cleaned.head()"
   ]
  },
  {
   "cell_type": "code",
   "execution_count": 6,
   "metadata": {},
   "outputs": [],
   "source": [
    "#location = '{41.38386,2.11663}'"
   ]
  },
  {
   "cell_type": "code",
   "execution_count": 7,
   "metadata": {},
   "outputs": [],
   "source": [
    "df_dist = pd.read_csv('AAAAAIIIII.csv')"
   ]
  },
  {
   "cell_type": "code",
   "execution_count": 7,
   "metadata": {},
   "outputs": [
    {
     "data": {
      "text/html": [
       "<div>\n",
       "<style scoped>\n",
       "    .dataframe tbody tr th:only-of-type {\n",
       "        vertical-align: middle;\n",
       "    }\n",
       "\n",
       "    .dataframe tbody tr th {\n",
       "        vertical-align: top;\n",
       "    }\n",
       "\n",
       "    .dataframe thead th {\n",
       "        text-align: right;\n",
       "    }\n",
       "</style>\n",
       "<table border=\"1\" class=\"dataframe\">\n",
       "  <thead>\n",
       "    <tr style=\"text-align: right;\">\n",
       "      <th></th>\n",
       "      <th>Unnamed: 0</th>\n",
       "      <th>Nombre</th>\n",
       "      <th>Distancia</th>\n",
       "      <th>Posicion</th>\n",
       "    </tr>\n",
       "  </thead>\n",
       "  <tbody>\n",
       "    <tr>\n",
       "      <th>0</th>\n",
       "      <td>0</td>\n",
       "      <td>Restaurant Tritón</td>\n",
       "      <td>0.552306</td>\n",
       "      <td>[41.3867537, 2.1125587]</td>\n",
       "    </tr>\n",
       "    <tr>\n",
       "      <th>1</th>\n",
       "      <td>1</td>\n",
       "      <td>Santa Clara Restaurant</td>\n",
       "      <td>0.830799</td>\n",
       "      <td>[41.389526, 2.1215645]</td>\n",
       "    </tr>\n",
       "    <tr>\n",
       "      <th>2</th>\n",
       "      <td>2</td>\n",
       "      <td>De Angelis</td>\n",
       "      <td>0.931240</td>\n",
       "      <td>[41.3758353, 2.1191858]</td>\n",
       "    </tr>\n",
       "    <tr>\n",
       "      <th>3</th>\n",
       "      <td>3</td>\n",
       "      <td>Futballárium Barcelona</td>\n",
       "      <td>1.176793</td>\n",
       "      <td>[41.3777839, 2.125367599999999]</td>\n",
       "    </tr>\n",
       "    <tr>\n",
       "      <th>4</th>\n",
       "      <td>4</td>\n",
       "      <td>Punta Anguila</td>\n",
       "      <td>1.639249</td>\n",
       "      <td>[41.3821582, 2.1313569]</td>\n",
       "    </tr>\n",
       "  </tbody>\n",
       "</table>\n",
       "</div>"
      ],
      "text/plain": [
       "   Unnamed: 0                  Nombre  Distancia  \\\n",
       "0           0       Restaurant Tritón   0.552306   \n",
       "1           1  Santa Clara Restaurant   0.830799   \n",
       "2           2              De Angelis   0.931240   \n",
       "3           3  Futballárium Barcelona   1.176793   \n",
       "4           4           Punta Anguila   1.639249   \n",
       "\n",
       "                          Posicion  \n",
       "0          [41.3867537, 2.1125587]  \n",
       "1           [41.389526, 2.1215645]  \n",
       "2          [41.3758353, 2.1191858]  \n",
       "3  [41.3777839, 2.125367599999999]  \n",
       "4          [41.3821582, 2.1313569]  "
      ]
     },
     "execution_count": 7,
     "metadata": {},
     "output_type": "execute_result"
    }
   ],
   "source": [
    "df_dist.head()"
   ]
  },
  {
   "cell_type": "code",
   "execution_count": 8,
   "metadata": {},
   "outputs": [],
   "source": [
    "names=df_dist['Nombre']"
   ]
  },
  {
   "cell_type": "code",
   "execution_count": 9,
   "metadata": {},
   "outputs": [
    {
     "data": {
      "text/plain": [
       "132    5.917259\n",
       "133    5.917259\n",
       "134    5.917259\n",
       "Name: Distancia, dtype: float64"
      ]
     },
     "execution_count": 9,
     "metadata": {},
     "output_type": "execute_result"
    }
   ],
   "source": [
    "df_dist[df_dist['Nombre']==df_cleaned['title'][0]]['Distancia']"
   ]
  },
  {
   "cell_type": "code",
   "execution_count": 10,
   "metadata": {},
   "outputs": [],
   "source": [
    "dist = []\n",
    "for i in range(len(df_cleaned)):\n",
    "    dist.append((df_dist[df_dist['Nombre']==df_cleaned['title'][i]]['Distancia'].values))\n",
    "    #if df_cleaned['title'][i] in names:\n",
    "        #dist.append(df_dist[df_dist['Nombre']==df_cleaned['title'][i]]['Distancia'])"
   ]
  },
  {
   "cell_type": "code",
   "execution_count": 11,
   "metadata": {},
   "outputs": [
    {
     "data": {
      "text/plain": [
       "5.917259409102655"
      ]
     },
     "execution_count": 11,
     "metadata": {},
     "output_type": "execute_result"
    }
   ],
   "source": [
    "dist[0][0]"
   ]
  },
  {
   "cell_type": "code",
   "execution_count": 12,
   "metadata": {},
   "outputs": [
    {
     "data": {
      "text/plain": [
       "89"
      ]
     },
     "execution_count": 12,
     "metadata": {},
     "output_type": "execute_result"
    }
   ],
   "source": [
    "len(dist)"
   ]
  },
  {
   "cell_type": "code",
   "execution_count": 13,
   "metadata": {},
   "outputs": [],
   "source": [
    "d_n=[]\n",
    "for d in dist:\n",
    "    if len(d)>0:\n",
    "        d_n.append(d[0])\n",
    "    else:\n",
    "        d_n.append(float(\"NaN\"))"
   ]
  },
  {
   "cell_type": "code",
   "execution_count": 14,
   "metadata": {},
   "outputs": [],
   "source": [
    "df_cleaned['dist']=d_n"
   ]
  },
  {
   "cell_type": "code",
   "execution_count": 15,
   "metadata": {},
   "outputs": [
    {
     "data": {
      "text/html": [
       "<div>\n",
       "<style scoped>\n",
       "    .dataframe tbody tr th:only-of-type {\n",
       "        vertical-align: middle;\n",
       "    }\n",
       "\n",
       "    .dataframe tbody tr th {\n",
       "        vertical-align: top;\n",
       "    }\n",
       "\n",
       "    .dataframe thead th {\n",
       "        text-align: right;\n",
       "    }\n",
       "</style>\n",
       "<table border=\"1\" class=\"dataframe\">\n",
       "  <thead>\n",
       "    <tr style=\"text-align: right;\">\n",
       "      <th></th>\n",
       "      <th>Unnamed: 0</th>\n",
       "      <th>price</th>\n",
       "      <th>rating</th>\n",
       "      <th>type</th>\n",
       "      <th>title</th>\n",
       "      <th>dine_in</th>\n",
       "      <th>takeout</th>\n",
       "      <th>delivery</th>\n",
       "      <th>price_num</th>\n",
       "      <th>dist</th>\n",
       "    </tr>\n",
       "  </thead>\n",
       "  <tbody>\n",
       "    <tr>\n",
       "      <th>0</th>\n",
       "      <td>2</td>\n",
       "      <td>$</td>\n",
       "      <td>4.2</td>\n",
       "      <td>turkish</td>\n",
       "      <td>Divan Turkish Restaurant</td>\n",
       "      <td>1.0</td>\n",
       "      <td>1.0</td>\n",
       "      <td>1.0</td>\n",
       "      <td>1</td>\n",
       "      <td>5.917259</td>\n",
       "    </tr>\n",
       "    <tr>\n",
       "      <th>1</th>\n",
       "      <td>7</td>\n",
       "      <td>$$</td>\n",
       "      <td>4.0</td>\n",
       "      <td>italian</td>\n",
       "      <td>Restaurante La Tagliatella | Diagonal Mar, Bar...</td>\n",
       "      <td>1.0</td>\n",
       "      <td>1.0</td>\n",
       "      <td>1.0</td>\n",
       "      <td>2</td>\n",
       "      <td>11.376802</td>\n",
       "    </tr>\n",
       "    <tr>\n",
       "      <th>2</th>\n",
       "      <td>11</td>\n",
       "      <td>$</td>\n",
       "      <td>4.6</td>\n",
       "      <td>vegan_vegetarian</td>\n",
       "      <td>La Trocadero</td>\n",
       "      <td>1.0</td>\n",
       "      <td>1.0</td>\n",
       "      <td>1.0</td>\n",
       "      <td>1</td>\n",
       "      <td>6.713869</td>\n",
       "    </tr>\n",
       "    <tr>\n",
       "      <th>3</th>\n",
       "      <td>12</td>\n",
       "      <td>$$$</td>\n",
       "      <td>4.4</td>\n",
       "      <td>spanish</td>\n",
       "      <td>El Nacional</td>\n",
       "      <td>1.0</td>\n",
       "      <td>1.0</td>\n",
       "      <td>1.0</td>\n",
       "      <td>3</td>\n",
       "      <td>5.771540</td>\n",
       "    </tr>\n",
       "    <tr>\n",
       "      <th>4</th>\n",
       "      <td>15</td>\n",
       "      <td>$</td>\n",
       "      <td>4.3</td>\n",
       "      <td>asian</td>\n",
       "      <td>XiAn Restaurante</td>\n",
       "      <td>1.0</td>\n",
       "      <td>1.0</td>\n",
       "      <td>1.0</td>\n",
       "      <td>1</td>\n",
       "      <td>6.796732</td>\n",
       "    </tr>\n",
       "  </tbody>\n",
       "</table>\n",
       "</div>"
      ],
      "text/plain": [
       "   Unnamed: 0 price  rating              type  \\\n",
       "0           2     $     4.2           turkish   \n",
       "1           7    $$     4.0           italian   \n",
       "2          11     $     4.6  vegan_vegetarian   \n",
       "3          12   $$$     4.4           spanish   \n",
       "4          15     $     4.3             asian   \n",
       "\n",
       "                                               title  dine_in  takeout  \\\n",
       "0                           Divan Turkish Restaurant      1.0      1.0   \n",
       "1  Restaurante La Tagliatella | Diagonal Mar, Bar...      1.0      1.0   \n",
       "2                                       La Trocadero      1.0      1.0   \n",
       "3                                        El Nacional      1.0      1.0   \n",
       "4                                   XiAn Restaurante      1.0      1.0   \n",
       "\n",
       "   delivery  price_num       dist  \n",
       "0       1.0          1   5.917259  \n",
       "1       1.0          2  11.376802  \n",
       "2       1.0          1   6.713869  \n",
       "3       1.0          3   5.771540  \n",
       "4       1.0          1   6.796732  "
      ]
     },
     "execution_count": 15,
     "metadata": {},
     "output_type": "execute_result"
    }
   ],
   "source": [
    "df_cleaned.head()"
   ]
  },
  {
   "cell_type": "code",
   "execution_count": 16,
   "metadata": {},
   "outputs": [
    {
     "data": {
      "text/plain": [
       "89"
      ]
     },
     "execution_count": 16,
     "metadata": {},
     "output_type": "execute_result"
    }
   ],
   "source": [
    "len(df_cleaned)"
   ]
  },
  {
   "cell_type": "code",
   "execution_count": 17,
   "metadata": {},
   "outputs": [],
   "source": [
    "sent= df['description'].to_list()"
   ]
  },
  {
   "cell_type": "code",
   "execution_count": 18,
   "metadata": {},
   "outputs": [],
   "source": [
    "from gensim.models import Word2Vec\n",
    "from gensim.test.utils import lee_corpus_list\n",
    "\n",
    "from nltk.tokenize import sent_tokenize, word_tokenize\n",
    "import warnings\n",
    "\n",
    "data = []\n",
    "  \n",
    "# iterate through each sentence in the file\n",
    "for s in sent:\n",
    "    if type(s)==type('s'):\n",
    "        for i in sent_tokenize(s):\n",
    "            temp = []\n",
    "      \n",
    "    # tokenize the sentence into words\n",
    "        for j in word_tokenize(i):\n",
    "            if len(j)>1:\n",
    "                temp.append(j.lower())\n",
    "  \n",
    "        data.append(temp)\n",
    "data.append(lee_corpus_list[0])    \n",
    "    \n",
    "\n",
    "model = Word2Vec(sentences=data, vector_size=100, window=5, min_count=1, workers=4)\n",
    "model.save(\"word2vec.model\")"
   ]
  },
  {
   "cell_type": "code",
   "execution_count": 19,
   "metadata": {},
   "outputs": [],
   "source": [
    "sent=[]\n",
    "for d in data:\n",
    "    for i in d:\n",
    "        sent.append(i)"
   ]
  },
  {
   "cell_type": "code",
   "execution_count": null,
   "metadata": {},
   "outputs": [],
   "source": []
  },
  {
   "cell_type": "code",
   "execution_count": 20,
   "metadata": {},
   "outputs": [
    {
     "data": {
      "text/plain": [
       "'Five Guys'"
      ]
     },
     "execution_count": 20,
     "metadata": {},
     "output_type": "execute_result"
    }
   ],
   "source": [
    "#let people input words and get similarity\n",
    "input(\"What's your name?\")\n",
    "serv = select(\"Choose a service option\", ['dine_in','takeout','delivery'])\n",
    "pos_res = df_cleaned[df_cleaned[serv]==1]\n",
    "words = input(\"Tell me something about the restaurant you'd like to eat at!\")\n",
    "sim = []\n",
    "for d in sent:\n",
    "    for w in words:\n",
    "        if w ==d:\n",
    "            sim.append(model.wv.similarity(w, d))\n",
    "        else:\n",
    "            sim.append(0)\n",
    "sim=sum(sim)\n",
    "hunger_lvl = radio(\"How hungry are you?\", options=['A little', 'Average', 'Very'])\n",
    "coef_h = 1\n",
    "if hunger_lvl=='A little':\n",
    "    coef_h=0.8\n",
    "elif hunger_lvl=='Very':\n",
    "    coef_h=1.5\n",
    "    \n",
    "#type = select(\"Select the food type\", types)\n",
    "typ = checkbox(\"Select the food type(s) you'd like\", options=types)\n",
    "pos_res = df_cleaned[df_cleaned['type'].isin(typ)]\n",
    "min_rat = radio(\"Choose a minimum rating\", options=['1', '2', '3','4','5'])\n",
    "max_price = radio(\"From 1 to 4, 4 being the most expensive, choose the maximum price\", options=['1', '2', '3','4'])\n",
    "pos_res = pos_res[pos_res['price_num']<=int(max_price)]\n",
    "min_rat = int(min_rat)\n",
    "pos_res = pos_res[pos_res['rating']>=min_rat]\n",
    "rank = [-d*coef_h+sim for d in pos_res['dist']]\n",
    "rank = rank+pos_res['rating']\n",
    "pos_res['rank']=rank\n",
    "pos_res=pos_res.sort_values(by=['rank'],ascending=False)\n",
    "select(\"Here are the restaurants ranked by affinity, choose one!\", pos_res['title'])\n",
    "#res = select(\"Select restaurant\", pos_res['title'])\n"
   ]
  },
  {
   "cell_type": "code",
   "execution_count": null,
   "metadata": {},
   "outputs": [],
   "source": []
  },
  {
   "cell_type": "code",
   "execution_count": 110,
   "metadata": {},
   "outputs": [],
   "source": []
  },
  {
   "cell_type": "code",
   "execution_count": 113,
   "metadata": {},
   "outputs": [
    {
     "data": {
      "text/plain": [
       "3.0"
      ]
     },
     "execution_count": 113,
     "metadata": {},
     "output_type": "execute_result"
    }
   ],
   "source": []
  },
  {
   "cell_type": "code",
   "execution_count": 20,
   "metadata": {},
   "outputs": [],
   "source": []
  },
  {
   "cell_type": "code",
   "execution_count": null,
   "metadata": {},
   "outputs": [],
   "source": []
  },
  {
   "cell_type": "code",
   "execution_count": 26,
   "metadata": {},
   "outputs": [],
   "source": []
  },
  {
   "cell_type": "code",
   "execution_count": 61,
   "metadata": {},
   "outputs": [],
   "source": [
    "sent= df['description'].to_list()"
   ]
  },
  {
   "cell_type": "code",
   "execution_count": 84,
   "metadata": {},
   "outputs": [],
   "source": [
    "from nltk.tokenize import sent_tokenize, word_tokenize\n",
    "import warnings\n",
    "\n",
    "data = []\n",
    "  \n",
    "# iterate through each sentence in the file\n",
    "for s in sent:\n",
    "    if type(s)==type('s'):\n",
    "        for i in sent_tokenize(s):\n",
    "            temp = []\n",
    "      \n",
    "    # tokenize the sentence into words\n",
    "        for j in word_tokenize(i):\n",
    "            if len(j)>1:\n",
    "                temp.append(j.lower())\n",
    "  \n",
    "        data.append(temp)"
   ]
  },
  {
   "cell_type": "code",
   "execution_count": 85,
   "metadata": {},
   "outputs": [],
   "source": [
    "from gensim.test.utils import lee_corpus_list"
   ]
  },
  {
   "cell_type": "code",
   "execution_count": 86,
   "metadata": {},
   "outputs": [],
   "source": [
    "data.append(lee_corpus_list[0])"
   ]
  },
  {
   "cell_type": "code",
   "execution_count": 21,
   "metadata": {},
   "outputs": [
    {
     "data": {
      "text/html": [
       "<div>\n",
       "<style scoped>\n",
       "    .dataframe tbody tr th:only-of-type {\n",
       "        vertical-align: middle;\n",
       "    }\n",
       "\n",
       "    .dataframe tbody tr th {\n",
       "        vertical-align: top;\n",
       "    }\n",
       "\n",
       "    .dataframe thead th {\n",
       "        text-align: right;\n",
       "    }\n",
       "</style>\n",
       "<table border=\"1\" class=\"dataframe\">\n",
       "  <thead>\n",
       "    <tr style=\"text-align: right;\">\n",
       "      <th></th>\n",
       "      <th>Unnamed: 0</th>\n",
       "      <th>price</th>\n",
       "      <th>rating</th>\n",
       "      <th>type</th>\n",
       "      <th>title</th>\n",
       "      <th>dine_in</th>\n",
       "      <th>takeout</th>\n",
       "      <th>delivery</th>\n",
       "      <th>price_num</th>\n",
       "      <th>dist</th>\n",
       "      <th>rank</th>\n",
       "    </tr>\n",
       "  </thead>\n",
       "  <tbody>\n",
       "    <tr>\n",
       "      <th>20</th>\n",
       "      <td>64</td>\n",
       "      <td>$$</td>\n",
       "      <td>4.3</td>\n",
       "      <td>grill</td>\n",
       "      <td>Restaurant ASADOR DE ARANDA</td>\n",
       "      <td>1.0</td>\n",
       "      <td>1.0</td>\n",
       "      <td>1.0</td>\n",
       "      <td>2</td>\n",
       "      <td>3.954100</td>\n",
       "      <td>0.345900</td>\n",
       "    </tr>\n",
       "    <tr>\n",
       "      <th>24</th>\n",
       "      <td>83</td>\n",
       "      <td>$$</td>\n",
       "      <td>3.9</td>\n",
       "      <td>american</td>\n",
       "      <td>Foster's Hollywood</td>\n",
       "      <td>1.0</td>\n",
       "      <td>1.0</td>\n",
       "      <td>1.0</td>\n",
       "      <td>2</td>\n",
       "      <td>4.995244</td>\n",
       "      <td>-1.095244</td>\n",
       "    </tr>\n",
       "    <tr>\n",
       "      <th>25</th>\n",
       "      <td>88</td>\n",
       "      <td>$$</td>\n",
       "      <td>4.3</td>\n",
       "      <td>hamburger</td>\n",
       "      <td>Five Guys</td>\n",
       "      <td>1.0</td>\n",
       "      <td>1.0</td>\n",
       "      <td>1.0</td>\n",
       "      <td>2</td>\n",
       "      <td>5.842565</td>\n",
       "      <td>-1.542565</td>\n",
       "    </tr>\n",
       "    <tr>\n",
       "      <th>79</th>\n",
       "      <td>210</td>\n",
       "      <td>$$</td>\n",
       "      <td>4.2</td>\n",
       "      <td>hamburger</td>\n",
       "      <td>Five Guys</td>\n",
       "      <td>1.0</td>\n",
       "      <td>1.0</td>\n",
       "      <td>1.0</td>\n",
       "      <td>2</td>\n",
       "      <td>5.842565</td>\n",
       "      <td>-1.642565</td>\n",
       "    </tr>\n",
       "    <tr>\n",
       "      <th>44</th>\n",
       "      <td>131</td>\n",
       "      <td>$$</td>\n",
       "      <td>4.1</td>\n",
       "      <td>hamburger</td>\n",
       "      <td>Five Guys</td>\n",
       "      <td>1.0</td>\n",
       "      <td>1.0</td>\n",
       "      <td>1.0</td>\n",
       "      <td>2</td>\n",
       "      <td>5.842565</td>\n",
       "      <td>-1.742565</td>\n",
       "    </tr>\n",
       "    <tr>\n",
       "      <th>88</th>\n",
       "      <td>238</td>\n",
       "      <td>$$</td>\n",
       "      <td>4.1</td>\n",
       "      <td>hamburger</td>\n",
       "      <td>Five Guys</td>\n",
       "      <td>1.0</td>\n",
       "      <td>1.0</td>\n",
       "      <td>1.0</td>\n",
       "      <td>2</td>\n",
       "      <td>5.842565</td>\n",
       "      <td>-1.742565</td>\n",
       "    </tr>\n",
       "    <tr>\n",
       "      <th>82</th>\n",
       "      <td>217</td>\n",
       "      <td>$</td>\n",
       "      <td>4.0</td>\n",
       "      <td>fast food</td>\n",
       "      <td>Restaurant KFC</td>\n",
       "      <td>1.0</td>\n",
       "      <td>1.0</td>\n",
       "      <td>1.0</td>\n",
       "      <td>1</td>\n",
       "      <td>8.179334</td>\n",
       "      <td>-4.179334</td>\n",
       "    </tr>\n",
       "  </tbody>\n",
       "</table>\n",
       "</div>"
      ],
      "text/plain": [
       "    Unnamed: 0 price  rating       type                        title  dine_in  \\\n",
       "20          64    $$     4.3      grill  Restaurant ASADOR DE ARANDA      1.0   \n",
       "24          83    $$     3.9   american           Foster's Hollywood      1.0   \n",
       "25          88    $$     4.3  hamburger                    Five Guys      1.0   \n",
       "79         210    $$     4.2  hamburger                    Five Guys      1.0   \n",
       "44         131    $$     4.1  hamburger                    Five Guys      1.0   \n",
       "88         238    $$     4.1  hamburger                    Five Guys      1.0   \n",
       "82         217     $     4.0  fast food               Restaurant KFC      1.0   \n",
       "\n",
       "    takeout  delivery  price_num      dist      rank  \n",
       "20      1.0       1.0          2  3.954100  0.345900  \n",
       "24      1.0       1.0          2  4.995244 -1.095244  \n",
       "25      1.0       1.0          2  5.842565 -1.542565  \n",
       "79      1.0       1.0          2  5.842565 -1.642565  \n",
       "44      1.0       1.0          2  5.842565 -1.742565  \n",
       "88      1.0       1.0          2  5.842565 -1.742565  \n",
       "82      1.0       1.0          1  8.179334 -4.179334  "
      ]
     },
     "execution_count": 21,
     "metadata": {},
     "output_type": "execute_result"
    }
   ],
   "source": [
    "pos_res"
   ]
  },
  {
   "cell_type": "code",
   "execution_count": 8,
   "metadata": {},
   "outputs": [],
   "source": [
    "df_prueba = pd.read_csv('df_prueba.csv')"
   ]
  },
  {
   "cell_type": "code",
   "execution_count": 28,
   "metadata": {},
   "outputs": [
    {
     "data": {
      "text/html": [
       "<div>\n",
       "<style scoped>\n",
       "    .dataframe tbody tr th:only-of-type {\n",
       "        vertical-align: middle;\n",
       "    }\n",
       "\n",
       "    .dataframe tbody tr th {\n",
       "        vertical-align: top;\n",
       "    }\n",
       "\n",
       "    .dataframe thead th {\n",
       "        text-align: right;\n",
       "    }\n",
       "</style>\n",
       "<table border=\"1\" class=\"dataframe\">\n",
       "  <thead>\n",
       "    <tr style=\"text-align: right;\">\n",
       "      <th></th>\n",
       "      <th>Unnamed: 0</th>\n",
       "      <th>Nombre</th>\n",
       "      <th>Distancia</th>\n",
       "      <th>Posicion</th>\n",
       "      <th>tipo</th>\n",
       "    </tr>\n",
       "  </thead>\n",
       "  <tbody>\n",
       "    <tr>\n",
       "      <th>0</th>\n",
       "      <td>0</td>\n",
       "      <td>Restaurant Tritón</td>\n",
       "      <td>0.552306</td>\n",
       "      <td>(2.1125587, 41.3867537)</td>\n",
       "      <td>restaurant</td>\n",
       "    </tr>\n",
       "    <tr>\n",
       "      <th>1</th>\n",
       "      <td>1</td>\n",
       "      <td>Santa Clara Restaurant</td>\n",
       "      <td>0.830799</td>\n",
       "      <td>(2.1215645, 41.389526)</td>\n",
       "      <td>bar &amp; grill</td>\n",
       "    </tr>\n",
       "    <tr>\n",
       "      <th>2</th>\n",
       "      <td>2</td>\n",
       "      <td>De Angelis</td>\n",
       "      <td>0.931240</td>\n",
       "      <td>(2.1191858, 41.3758353)</td>\n",
       "      <td>italian</td>\n",
       "    </tr>\n",
       "    <tr>\n",
       "      <th>3</th>\n",
       "      <td>3</td>\n",
       "      <td>Futballárium Barcelona</td>\n",
       "      <td>1.176793</td>\n",
       "      <td>(2.125367599999999, 41.3777839)</td>\n",
       "      <td>restaurant</td>\n",
       "    </tr>\n",
       "    <tr>\n",
       "      <th>4</th>\n",
       "      <td>4</td>\n",
       "      <td>Punta Anguila</td>\n",
       "      <td>1.639249</td>\n",
       "      <td>(2.1313569, 41.3821582)</td>\n",
       "      <td>restaurant</td>\n",
       "    </tr>\n",
       "    <tr>\n",
       "      <th>...</th>\n",
       "      <td>...</td>\n",
       "      <td>...</td>\n",
       "      <td>...</td>\n",
       "      <td>...</td>\n",
       "      <td>...</td>\n",
       "    </tr>\n",
       "    <tr>\n",
       "      <th>301</th>\n",
       "      <td>301</td>\n",
       "      <td>Restaurante La Tagliatella | Diagonal Mar, Bar...</td>\n",
       "      <td>11.376802</td>\n",
       "      <td>(2.2164796, 41.408681699999995)</td>\n",
       "      <td>italian</td>\n",
       "    </tr>\n",
       "    <tr>\n",
       "      <th>302</th>\n",
       "      <td>302</td>\n",
       "      <td>Restaurante La Tagliatella | Diagonal Mar, Bar...</td>\n",
       "      <td>11.376802</td>\n",
       "      <td>(2.2164796, 41.408681699999995)</td>\n",
       "      <td>italian</td>\n",
       "    </tr>\n",
       "    <tr>\n",
       "      <th>303</th>\n",
       "      <td>303</td>\n",
       "      <td>Restaurant Pacífic</td>\n",
       "      <td>11.654766</td>\n",
       "      <td>(2.2177987, 41.413433)</td>\n",
       "      <td>restaurant</td>\n",
       "    </tr>\n",
       "    <tr>\n",
       "      <th>304</th>\n",
       "      <td>304</td>\n",
       "      <td>Bar Restaurant Nou</td>\n",
       "      <td>11.659553</td>\n",
       "      <td>(2.2183364, 41.4116917)</td>\n",
       "      <td>restaurant</td>\n",
       "    </tr>\n",
       "    <tr>\n",
       "      <th>305</th>\n",
       "      <td>305</td>\n",
       "      <td>Master Chef Restaurant Barcelona</td>\n",
       "      <td>11.754947</td>\n",
       "      <td>(2.2173843, 41.4177724)</td>\n",
       "      <td>restaurant</td>\n",
       "    </tr>\n",
       "  </tbody>\n",
       "</table>\n",
       "<p>306 rows × 5 columns</p>\n",
       "</div>"
      ],
      "text/plain": [
       "     Unnamed: 0                                             Nombre  Distancia  \\\n",
       "0             0                                  Restaurant Tritón   0.552306   \n",
       "1             1                             Santa Clara Restaurant   0.830799   \n",
       "2             2                                         De Angelis   0.931240   \n",
       "3             3                             Futballárium Barcelona   1.176793   \n",
       "4             4                                      Punta Anguila   1.639249   \n",
       "..          ...                                                ...        ...   \n",
       "301         301  Restaurante La Tagliatella | Diagonal Mar, Bar...  11.376802   \n",
       "302         302  Restaurante La Tagliatella | Diagonal Mar, Bar...  11.376802   \n",
       "303         303                                 Restaurant Pacífic  11.654766   \n",
       "304         304                                 Bar Restaurant Nou  11.659553   \n",
       "305         305                   Master Chef Restaurant Barcelona  11.754947   \n",
       "\n",
       "                            Posicion         tipo  \n",
       "0            (2.1125587, 41.3867537)   restaurant  \n",
       "1             (2.1215645, 41.389526)  bar & grill  \n",
       "2            (2.1191858, 41.3758353)      italian  \n",
       "3    (2.125367599999999, 41.3777839)   restaurant  \n",
       "4            (2.1313569, 41.3821582)   restaurant  \n",
       "..                               ...          ...  \n",
       "301  (2.2164796, 41.408681699999995)      italian  \n",
       "302  (2.2164796, 41.408681699999995)      italian  \n",
       "303           (2.2177987, 41.413433)   restaurant  \n",
       "304          (2.2183364, 41.4116917)   restaurant  \n",
       "305          (2.2173843, 41.4177724)   restaurant  \n",
       "\n",
       "[306 rows x 5 columns]"
      ]
     },
     "execution_count": 28,
     "metadata": {},
     "output_type": "execute_result"
    }
   ],
   "source": [
    "df_prueba"
   ]
  },
  {
   "cell_type": "code",
   "execution_count": null,
   "metadata": {},
   "outputs": [],
   "source": []
  }
 ],
 "metadata": {
  "kernelspec": {
   "display_name": "Python 3",
   "language": "python",
   "name": "python3"
  },
  "language_info": {
   "codemirror_mode": {
    "name": "ipython",
    "version": 3
   },
   "file_extension": ".py",
   "mimetype": "text/x-python",
   "name": "python",
   "nbconvert_exporter": "python",
   "pygments_lexer": "ipython3",
   "version": "3.8.5"
  }
 },
 "nbformat": 4,
 "nbformat_minor": 4
}
